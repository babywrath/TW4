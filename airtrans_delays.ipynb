{
 "cells": [
  {
   "cell_type": "markdown",
   "metadata": {},
   "source": [
    "# TW4 EDA on Airlines Delay Data"
   ]
  },
  {
   "cell_type": "markdown",
   "metadata": {},
   "source": [
    "#### Bart Nadala, Maason Kao, Zachary Jeffreys\n",
    "\n",
    "\n",
    "#### Submission:\n",
    "\n",
    "- Push the completed code to your Github repository.\n",
    "\n",
    "- See more information in Canvas. "
   ]
  },
  {
   "cell_type": "markdown",
   "metadata": {},
   "source": [
    "#### We will conduct basic EDA on airlines delays datasets.\n",
    "\n",
    "- Conduct basic preprocessing\n",
    "\n",
    "- Apply EDA on chosen data\n",
    "\n",
    "\n",
    "#### Airlines delay datasets\n",
    "\n",
    "- Flight delay explanatory data analysis using airlines delay datasets\n",
    "\n",
    "https://www.kaggle.com/giovamata/airlinedelaycauses\n",
    "\n",
    "- EDA examples:\n",
    "\n",
    "https://www.kaggle.com/adveros/flight-delay-eda-exploratory-data-analysis\n",
    "\n",
    "- a complete report of airlines delay can be found in Canvas Week 4. "
   ]
  },
  {
   "cell_type": "markdown",
   "metadata": {},
   "source": [
    "### Part 0:\n",
    "    \n",
    "- Examples below are the EDA for airlines delays 2020 data\n",
    "\n",
    "- Run through the code and check preprocessing and some tools of EDA. "
   ]
  },
  {
   "cell_type": "code",
   "execution_count": 217,
   "metadata": {},
   "outputs": [],
   "source": [
    "%matplotlib inline\n",
    "\n",
    "import pandas as pd\n",
    "import matplotlib.pyplot as plt\n",
    "import numpy as np"
   ]
  },
  {
   "cell_type": "code",
   "execution_count": 218,
   "metadata": {},
   "outputs": [
    {
     "data": {
      "text/html": [
       "<div>\n",
       "<style scoped>\n",
       "    .dataframe tbody tr th:only-of-type {\n",
       "        vertical-align: middle;\n",
       "    }\n",
       "\n",
       "    .dataframe tbody tr th {\n",
       "        vertical-align: top;\n",
       "    }\n",
       "\n",
       "    .dataframe thead th {\n",
       "        text-align: right;\n",
       "    }\n",
       "</style>\n",
       "<table border=\"1\" class=\"dataframe\">\n",
       "  <thead>\n",
       "    <tr style=\"text-align: right;\">\n",
       "      <th></th>\n",
       "      <th>flight_date</th>\n",
       "      <th>unique_carrier</th>\n",
       "      <th>flight_num</th>\n",
       "      <th>origin</th>\n",
       "      <th>dest</th>\n",
       "      <th>dep_delay</th>\n",
       "      <th>arr_delay</th>\n",
       "      <th>cancelled</th>\n",
       "      <th>actual_elapsed_time</th>\n",
       "      <th>distance</th>\n",
       "      <th>carrier_delay</th>\n",
       "      <th>weather_delay</th>\n",
       "      <th>late_aircraft_dealy</th>\n",
       "    </tr>\n",
       "  </thead>\n",
       "  <tbody>\n",
       "    <tr>\n",
       "      <th>0</th>\n",
       "      <td>1/1/20</td>\n",
       "      <td>WN</td>\n",
       "      <td>5888</td>\n",
       "      <td>ONT</td>\n",
       "      <td>SFO</td>\n",
       "      <td>41.0</td>\n",
       "      <td>68.0</td>\n",
       "      <td>0</td>\n",
       "      <td>122.0</td>\n",
       "      <td>363</td>\n",
       "      <td>8.0</td>\n",
       "      <td>0.0</td>\n",
       "      <td>33.0</td>\n",
       "    </tr>\n",
       "    <tr>\n",
       "      <th>1</th>\n",
       "      <td>1/1/20</td>\n",
       "      <td>WN</td>\n",
       "      <td>6276</td>\n",
       "      <td>ONT</td>\n",
       "      <td>SFO</td>\n",
       "      <td>-4.0</td>\n",
       "      <td>-2.0</td>\n",
       "      <td>0</td>\n",
       "      <td>92.0</td>\n",
       "      <td>363</td>\n",
       "      <td>0.0</td>\n",
       "      <td>0.0</td>\n",
       "      <td>0.0</td>\n",
       "    </tr>\n",
       "    <tr>\n",
       "      <th>2</th>\n",
       "      <td>1/1/20</td>\n",
       "      <td>WN</td>\n",
       "      <td>4598</td>\n",
       "      <td>ONT</td>\n",
       "      <td>SJC</td>\n",
       "      <td>-4.0</td>\n",
       "      <td>-6.0</td>\n",
       "      <td>0</td>\n",
       "      <td>68.0</td>\n",
       "      <td>333</td>\n",
       "      <td>0.0</td>\n",
       "      <td>0.0</td>\n",
       "      <td>0.0</td>\n",
       "    </tr>\n",
       "    <tr>\n",
       "      <th>3</th>\n",
       "      <td>1/1/20</td>\n",
       "      <td>WN</td>\n",
       "      <td>4761</td>\n",
       "      <td>ONT</td>\n",
       "      <td>SJC</td>\n",
       "      <td>10.0</td>\n",
       "      <td>10.0</td>\n",
       "      <td>0</td>\n",
       "      <td>75.0</td>\n",
       "      <td>333</td>\n",
       "      <td>0.0</td>\n",
       "      <td>0.0</td>\n",
       "      <td>0.0</td>\n",
       "    </tr>\n",
       "    <tr>\n",
       "      <th>4</th>\n",
       "      <td>1/1/20</td>\n",
       "      <td>WN</td>\n",
       "      <td>5162</td>\n",
       "      <td>ONT</td>\n",
       "      <td>SJC</td>\n",
       "      <td>1.0</td>\n",
       "      <td>-12.0</td>\n",
       "      <td>0</td>\n",
       "      <td>67.0</td>\n",
       "      <td>333</td>\n",
       "      <td>0.0</td>\n",
       "      <td>0.0</td>\n",
       "      <td>0.0</td>\n",
       "    </tr>\n",
       "  </tbody>\n",
       "</table>\n",
       "</div>"
      ],
      "text/plain": [
       "  flight_date unique_carrier  flight_num origin dest  dep_delay  arr_delay  \\\n",
       "0      1/1/20             WN        5888    ONT  SFO       41.0       68.0   \n",
       "1      1/1/20             WN        6276    ONT  SFO       -4.0       -2.0   \n",
       "2      1/1/20             WN        4598    ONT  SJC       -4.0       -6.0   \n",
       "3      1/1/20             WN        4761    ONT  SJC       10.0       10.0   \n",
       "4      1/1/20             WN        5162    ONT  SJC        1.0      -12.0   \n",
       "\n",
       "   cancelled  actual_elapsed_time  distance  carrier_delay  weather_delay  \\\n",
       "0          0                122.0       363            8.0            0.0   \n",
       "1          0                 92.0       363            0.0            0.0   \n",
       "2          0                 68.0       333            0.0            0.0   \n",
       "3          0                 75.0       333            0.0            0.0   \n",
       "4          0                 67.0       333            0.0            0.0   \n",
       "\n",
       "   late_aircraft_dealy  \n",
       "0                 33.0  \n",
       "1                  0.0  \n",
       "2                  0.0  \n",
       "3                  0.0  \n",
       "4                  0.0  "
      ]
     },
     "execution_count": 218,
     "metadata": {},
     "output_type": "execute_result"
    }
   ],
   "source": [
    "data = pd.read_csv('./data/airtrans_2020_Jan.csv') \n",
    "# if there are any missing values, then fill in with NaN\n",
    "data = data.fillna(0)\n",
    "data.head()"
   ]
  },
  {
   "cell_type": "markdown",
   "metadata": {},
   "source": [
    "#### Python lambda\n",
    "\n",
    "- see the examples of lambda\n",
    "\n",
    "https://www.w3schools.com/python/python_lambda.asp"
   ]
  },
  {
   "cell_type": "code",
   "execution_count": 219,
   "metadata": {},
   "outputs": [
    {
     "data": {
      "text/html": [
       "<div>\n",
       "<style scoped>\n",
       "    .dataframe tbody tr th:only-of-type {\n",
       "        vertical-align: middle;\n",
       "    }\n",
       "\n",
       "    .dataframe tbody tr th {\n",
       "        vertical-align: top;\n",
       "    }\n",
       "\n",
       "    .dataframe thead th {\n",
       "        text-align: right;\n",
       "    }\n",
       "</style>\n",
       "<table border=\"1\" class=\"dataframe\">\n",
       "  <thead>\n",
       "    <tr style=\"text-align: right;\">\n",
       "      <th></th>\n",
       "      <th>flight_date</th>\n",
       "      <th>unique_carrier</th>\n",
       "      <th>flight_num</th>\n",
       "      <th>origin</th>\n",
       "      <th>dest</th>\n",
       "      <th>dep_delay</th>\n",
       "      <th>arr_delay</th>\n",
       "      <th>cancelled</th>\n",
       "      <th>actual_elapsed_time</th>\n",
       "      <th>distance</th>\n",
       "      <th>carrier_delay</th>\n",
       "      <th>weather_delay</th>\n",
       "      <th>late_aircraft_dealy</th>\n",
       "      <th>delayed</th>\n",
       "    </tr>\n",
       "  </thead>\n",
       "  <tbody>\n",
       "    <tr>\n",
       "      <th>0</th>\n",
       "      <td>1/1/20</td>\n",
       "      <td>WN</td>\n",
       "      <td>5888</td>\n",
       "      <td>ONT</td>\n",
       "      <td>SFO</td>\n",
       "      <td>41.0</td>\n",
       "      <td>68.0</td>\n",
       "      <td>0</td>\n",
       "      <td>122.0</td>\n",
       "      <td>363</td>\n",
       "      <td>8.0</td>\n",
       "      <td>0.0</td>\n",
       "      <td>33.0</td>\n",
       "      <td>True</td>\n",
       "    </tr>\n",
       "    <tr>\n",
       "      <th>1</th>\n",
       "      <td>1/1/20</td>\n",
       "      <td>WN</td>\n",
       "      <td>6276</td>\n",
       "      <td>ONT</td>\n",
       "      <td>SFO</td>\n",
       "      <td>-4.0</td>\n",
       "      <td>-2.0</td>\n",
       "      <td>0</td>\n",
       "      <td>92.0</td>\n",
       "      <td>363</td>\n",
       "      <td>0.0</td>\n",
       "      <td>0.0</td>\n",
       "      <td>0.0</td>\n",
       "      <td>False</td>\n",
       "    </tr>\n",
       "    <tr>\n",
       "      <th>2</th>\n",
       "      <td>1/1/20</td>\n",
       "      <td>WN</td>\n",
       "      <td>4598</td>\n",
       "      <td>ONT</td>\n",
       "      <td>SJC</td>\n",
       "      <td>-4.0</td>\n",
       "      <td>-6.0</td>\n",
       "      <td>0</td>\n",
       "      <td>68.0</td>\n",
       "      <td>333</td>\n",
       "      <td>0.0</td>\n",
       "      <td>0.0</td>\n",
       "      <td>0.0</td>\n",
       "      <td>False</td>\n",
       "    </tr>\n",
       "    <tr>\n",
       "      <th>3</th>\n",
       "      <td>1/1/20</td>\n",
       "      <td>WN</td>\n",
       "      <td>4761</td>\n",
       "      <td>ONT</td>\n",
       "      <td>SJC</td>\n",
       "      <td>10.0</td>\n",
       "      <td>10.0</td>\n",
       "      <td>0</td>\n",
       "      <td>75.0</td>\n",
       "      <td>333</td>\n",
       "      <td>0.0</td>\n",
       "      <td>0.0</td>\n",
       "      <td>0.0</td>\n",
       "      <td>True</td>\n",
       "    </tr>\n",
       "    <tr>\n",
       "      <th>4</th>\n",
       "      <td>1/1/20</td>\n",
       "      <td>WN</td>\n",
       "      <td>5162</td>\n",
       "      <td>ONT</td>\n",
       "      <td>SJC</td>\n",
       "      <td>1.0</td>\n",
       "      <td>-12.0</td>\n",
       "      <td>0</td>\n",
       "      <td>67.0</td>\n",
       "      <td>333</td>\n",
       "      <td>0.0</td>\n",
       "      <td>0.0</td>\n",
       "      <td>0.0</td>\n",
       "      <td>False</td>\n",
       "    </tr>\n",
       "  </tbody>\n",
       "</table>\n",
       "</div>"
      ],
      "text/plain": [
       "  flight_date unique_carrier  flight_num origin dest  dep_delay  arr_delay  \\\n",
       "0      1/1/20             WN        5888    ONT  SFO       41.0       68.0   \n",
       "1      1/1/20             WN        6276    ONT  SFO       -4.0       -2.0   \n",
       "2      1/1/20             WN        4598    ONT  SJC       -4.0       -6.0   \n",
       "3      1/1/20             WN        4761    ONT  SJC       10.0       10.0   \n",
       "4      1/1/20             WN        5162    ONT  SJC        1.0      -12.0   \n",
       "\n",
       "   cancelled  actual_elapsed_time  distance  carrier_delay  weather_delay  \\\n",
       "0          0                122.0       363            8.0            0.0   \n",
       "1          0                 92.0       363            0.0            0.0   \n",
       "2          0                 68.0       333            0.0            0.0   \n",
       "3          0                 75.0       333            0.0            0.0   \n",
       "4          0                 67.0       333            0.0            0.0   \n",
       "\n",
       "   late_aircraft_dealy  delayed  \n",
       "0                 33.0     True  \n",
       "1                  0.0    False  \n",
       "2                  0.0    False  \n",
       "3                  0.0     True  \n",
       "4                  0.0    False  "
      ]
     },
     "execution_count": 219,
     "metadata": {},
     "output_type": "execute_result"
    }
   ],
   "source": [
    "# add a new column with 'delayed' as key with values either True or False\n",
    "data['delayed'] = data['arr_delay'].apply(lambda x: x > 0) \n",
    "\n",
    "data.head()"
   ]
  },
  {
   "cell_type": "code",
   "execution_count": 220,
   "metadata": {},
   "outputs": [
    {
     "data": {
      "text/html": [
       "<div>\n",
       "<style scoped>\n",
       "    .dataframe tbody tr th:only-of-type {\n",
       "        vertical-align: middle;\n",
       "    }\n",
       "\n",
       "    .dataframe tbody tr th {\n",
       "        vertical-align: top;\n",
       "    }\n",
       "\n",
       "    .dataframe thead th {\n",
       "        text-align: right;\n",
       "    }\n",
       "</style>\n",
       "<table border=\"1\" class=\"dataframe\">\n",
       "  <thead>\n",
       "    <tr style=\"text-align: right;\">\n",
       "      <th></th>\n",
       "      <th>flight_date</th>\n",
       "      <th>unique_carrier</th>\n",
       "      <th>flight_num</th>\n",
       "      <th>origin</th>\n",
       "      <th>dest</th>\n",
       "      <th>dep_delay</th>\n",
       "      <th>arr_delay</th>\n",
       "      <th>cancelled</th>\n",
       "      <th>actual_elapsed_time</th>\n",
       "      <th>distance</th>\n",
       "      <th>carrier_delay</th>\n",
       "      <th>weather_delay</th>\n",
       "      <th>late_aircraft_dealy</th>\n",
       "      <th>delayed</th>\n",
       "    </tr>\n",
       "  </thead>\n",
       "  <tbody>\n",
       "    <tr>\n",
       "      <th>0</th>\n",
       "      <td>1/1/20</td>\n",
       "      <td>WN</td>\n",
       "      <td>5888</td>\n",
       "      <td>ONT</td>\n",
       "      <td>SFO</td>\n",
       "      <td>41.0</td>\n",
       "      <td>68.0</td>\n",
       "      <td>0</td>\n",
       "      <td>122.0</td>\n",
       "      <td>363</td>\n",
       "      <td>8.0</td>\n",
       "      <td>0.0</td>\n",
       "      <td>33.0</td>\n",
       "      <td>True</td>\n",
       "    </tr>\n",
       "    <tr>\n",
       "      <th>3</th>\n",
       "      <td>1/1/20</td>\n",
       "      <td>WN</td>\n",
       "      <td>4761</td>\n",
       "      <td>ONT</td>\n",
       "      <td>SJC</td>\n",
       "      <td>10.0</td>\n",
       "      <td>10.0</td>\n",
       "      <td>0</td>\n",
       "      <td>75.0</td>\n",
       "      <td>333</td>\n",
       "      <td>0.0</td>\n",
       "      <td>0.0</td>\n",
       "      <td>0.0</td>\n",
       "      <td>True</td>\n",
       "    </tr>\n",
       "    <tr>\n",
       "      <th>5</th>\n",
       "      <td>1/1/20</td>\n",
       "      <td>WN</td>\n",
       "      <td>5684</td>\n",
       "      <td>ONT</td>\n",
       "      <td>SJC</td>\n",
       "      <td>2.0</td>\n",
       "      <td>7.0</td>\n",
       "      <td>0</td>\n",
       "      <td>80.0</td>\n",
       "      <td>333</td>\n",
       "      <td>0.0</td>\n",
       "      <td>0.0</td>\n",
       "      <td>0.0</td>\n",
       "      <td>True</td>\n",
       "    </tr>\n",
       "    <tr>\n",
       "      <th>7</th>\n",
       "      <td>1/1/20</td>\n",
       "      <td>WN</td>\n",
       "      <td>1679</td>\n",
       "      <td>ONT</td>\n",
       "      <td>SMF</td>\n",
       "      <td>59.0</td>\n",
       "      <td>47.0</td>\n",
       "      <td>0</td>\n",
       "      <td>73.0</td>\n",
       "      <td>390</td>\n",
       "      <td>0.0</td>\n",
       "      <td>0.0</td>\n",
       "      <td>40.0</td>\n",
       "      <td>True</td>\n",
       "    </tr>\n",
       "    <tr>\n",
       "      <th>8</th>\n",
       "      <td>1/1/20</td>\n",
       "      <td>WN</td>\n",
       "      <td>3479</td>\n",
       "      <td>ONT</td>\n",
       "      <td>SMF</td>\n",
       "      <td>-5.0</td>\n",
       "      <td>10.0</td>\n",
       "      <td>0</td>\n",
       "      <td>100.0</td>\n",
       "      <td>390</td>\n",
       "      <td>0.0</td>\n",
       "      <td>0.0</td>\n",
       "      <td>0.0</td>\n",
       "      <td>True</td>\n",
       "    </tr>\n",
       "  </tbody>\n",
       "</table>\n",
       "</div>"
      ],
      "text/plain": [
       "  flight_date unique_carrier  flight_num origin dest  dep_delay  arr_delay  \\\n",
       "0      1/1/20             WN        5888    ONT  SFO       41.0       68.0   \n",
       "3      1/1/20             WN        4761    ONT  SJC       10.0       10.0   \n",
       "5      1/1/20             WN        5684    ONT  SJC        2.0        7.0   \n",
       "7      1/1/20             WN        1679    ONT  SMF       59.0       47.0   \n",
       "8      1/1/20             WN        3479    ONT  SMF       -5.0       10.0   \n",
       "\n",
       "   cancelled  actual_elapsed_time  distance  carrier_delay  weather_delay  \\\n",
       "0          0                122.0       363            8.0            0.0   \n",
       "3          0                 75.0       333            0.0            0.0   \n",
       "5          0                 80.0       333            0.0            0.0   \n",
       "7          0                 73.0       390            0.0            0.0   \n",
       "8          0                100.0       390            0.0            0.0   \n",
       "\n",
       "   late_aircraft_dealy  delayed  \n",
       "0                 33.0     True  \n",
       "3                  0.0     True  \n",
       "5                  0.0     True  \n",
       "7                 40.0     True  \n",
       "8                  0.0     True  "
      ]
     },
     "execution_count": 220,
     "metadata": {},
     "output_type": "execute_result"
    }
   ],
   "source": [
    "# create a new DataFrame containing only delayed flights\n",
    "delayed_flights = data[data['delayed'] == True]\n",
    "\n",
    "delayed_flights.head()"
   ]
  },
  {
   "cell_type": "code",
   "execution_count": 221,
   "metadata": {},
   "outputs": [
    {
     "data": {
      "text/plain": [
       "WN    24134\n",
       "AA    22706\n",
       "DL    18692\n",
       "OO    18242\n",
       "UA    12133\n",
       "OH     9433\n",
       "MQ     8944\n",
       "AS     8062\n",
       "YX     6838\n",
       "B6     6603\n",
       "YV     5698\n",
       "NK     4589\n",
       "9E     4300\n",
       "F9     3117\n",
       "EV     2975\n",
       "G4     2788\n",
       "HA     2371\n",
       "Name: unique_carrier, dtype: int64"
      ]
     },
     "execution_count": 221,
     "metadata": {},
     "output_type": "execute_result"
    }
   ],
   "source": [
    "# how many unique carriers that have delayed flights\n",
    "delayed_flights['unique_carrier'].value_counts()"
   ]
  },
  {
   "cell_type": "code",
   "execution_count": 222,
   "metadata": {},
   "outputs": [
    {
     "data": {
      "text/html": [
       "<div>\n",
       "<style scoped>\n",
       "    .dataframe tbody tr th:only-of-type {\n",
       "        vertical-align: middle;\n",
       "    }\n",
       "\n",
       "    .dataframe tbody tr th {\n",
       "        vertical-align: top;\n",
       "    }\n",
       "\n",
       "    .dataframe thead th {\n",
       "        text-align: right;\n",
       "    }\n",
       "</style>\n",
       "<table border=\"1\" class=\"dataframe\">\n",
       "  <thead>\n",
       "    <tr style=\"text-align: right;\">\n",
       "      <th>delayed</th>\n",
       "      <th>False</th>\n",
       "      <th>True</th>\n",
       "    </tr>\n",
       "    <tr>\n",
       "      <th>unique_carrier</th>\n",
       "      <th></th>\n",
       "      <th></th>\n",
       "    </tr>\n",
       "  </thead>\n",
       "  <tbody>\n",
       "    <tr>\n",
       "      <th>9E</th>\n",
       "      <td>18768</td>\n",
       "      <td>4300</td>\n",
       "    </tr>\n",
       "    <tr>\n",
       "      <th>AA</th>\n",
       "      <td>53570</td>\n",
       "      <td>22706</td>\n",
       "    </tr>\n",
       "    <tr>\n",
       "      <th>AS</th>\n",
       "      <td>13048</td>\n",
       "      <td>8062</td>\n",
       "    </tr>\n",
       "    <tr>\n",
       "      <th>B6</th>\n",
       "      <td>18106</td>\n",
       "      <td>6603</td>\n",
       "    </tr>\n",
       "    <tr>\n",
       "      <th>DL</th>\n",
       "      <td>61375</td>\n",
       "      <td>18692</td>\n",
       "    </tr>\n",
       "    <tr>\n",
       "      <th>EV</th>\n",
       "      <td>7589</td>\n",
       "      <td>2975</td>\n",
       "    </tr>\n",
       "    <tr>\n",
       "      <th>F9</th>\n",
       "      <td>9350</td>\n",
       "      <td>3117</td>\n",
       "    </tr>\n",
       "    <tr>\n",
       "      <th>G4</th>\n",
       "      <td>4986</td>\n",
       "      <td>2788</td>\n",
       "    </tr>\n",
       "    <tr>\n",
       "      <th>HA</th>\n",
       "      <td>4664</td>\n",
       "      <td>2371</td>\n",
       "    </tr>\n",
       "    <tr>\n",
       "      <th>MQ</th>\n",
       "      <td>17256</td>\n",
       "      <td>8944</td>\n",
       "    </tr>\n",
       "    <tr>\n",
       "      <th>NK</th>\n",
       "      <td>12888</td>\n",
       "      <td>4589</td>\n",
       "    </tr>\n",
       "    <tr>\n",
       "      <th>OH</th>\n",
       "      <td>14876</td>\n",
       "      <td>9433</td>\n",
       "    </tr>\n",
       "    <tr>\n",
       "      <th>OO</th>\n",
       "      <td>52918</td>\n",
       "      <td>18242</td>\n",
       "    </tr>\n",
       "    <tr>\n",
       "      <th>UA</th>\n",
       "      <td>36268</td>\n",
       "      <td>12133</td>\n",
       "    </tr>\n",
       "    <tr>\n",
       "      <th>WN</th>\n",
       "      <td>85636</td>\n",
       "      <td>24134</td>\n",
       "    </tr>\n",
       "    <tr>\n",
       "      <th>YV</th>\n",
       "      <td>12138</td>\n",
       "      <td>5698</td>\n",
       "    </tr>\n",
       "    <tr>\n",
       "      <th>YX</th>\n",
       "      <td>22285</td>\n",
       "      <td>6838</td>\n",
       "    </tr>\n",
       "  </tbody>\n",
       "</table>\n",
       "</div>"
      ],
      "text/plain": [
       "delayed         False   True\n",
       "unique_carrier              \n",
       "9E              18768   4300\n",
       "AA              53570  22706\n",
       "AS              13048   8062\n",
       "B6              18106   6603\n",
       "DL              61375  18692\n",
       "EV               7589   2975\n",
       "F9               9350   3117\n",
       "G4               4986   2788\n",
       "HA               4664   2371\n",
       "MQ              17256   8944\n",
       "NK              12888   4589\n",
       "OH              14876   9433\n",
       "OO              52918  18242\n",
       "UA              36268  12133\n",
       "WN              85636  24134\n",
       "YV              12138   5698\n",
       "YX              22285   6838"
      ]
     },
     "execution_count": 222,
     "metadata": {},
     "output_type": "execute_result"
    }
   ],
   "source": [
    "# retrieve flights with delayed information (False or True)\n",
    "# group the data based on unique_carrier and count them.\n",
    "delayed_by_carrier = data.groupby(['unique_carrier', 'delayed']).size().unstack()\n",
    "delayed_by_carrier"
   ]
  },
  {
   "cell_type": "code",
   "execution_count": 223,
   "metadata": {},
   "outputs": [
    {
     "data": {
      "text/html": [
       "<div>\n",
       "<style scoped>\n",
       "    .dataframe tbody tr th:only-of-type {\n",
       "        vertical-align: middle;\n",
       "    }\n",
       "\n",
       "    .dataframe tbody tr th {\n",
       "        vertical-align: top;\n",
       "    }\n",
       "\n",
       "    .dataframe thead th {\n",
       "        text-align: right;\n",
       "    }\n",
       "</style>\n",
       "<table border=\"1\" class=\"dataframe\">\n",
       "  <thead>\n",
       "    <tr style=\"text-align: right;\">\n",
       "      <th>delayed</th>\n",
       "      <th>unique_carrier</th>\n",
       "      <th>False</th>\n",
       "      <th>True</th>\n",
       "    </tr>\n",
       "  </thead>\n",
       "  <tbody>\n",
       "    <tr>\n",
       "      <th>0</th>\n",
       "      <td>9E</td>\n",
       "      <td>18768</td>\n",
       "      <td>4300</td>\n",
       "    </tr>\n",
       "    <tr>\n",
       "      <th>1</th>\n",
       "      <td>AA</td>\n",
       "      <td>53570</td>\n",
       "      <td>22706</td>\n",
       "    </tr>\n",
       "    <tr>\n",
       "      <th>2</th>\n",
       "      <td>AS</td>\n",
       "      <td>13048</td>\n",
       "      <td>8062</td>\n",
       "    </tr>\n",
       "    <tr>\n",
       "      <th>3</th>\n",
       "      <td>B6</td>\n",
       "      <td>18106</td>\n",
       "      <td>6603</td>\n",
       "    </tr>\n",
       "    <tr>\n",
       "      <th>4</th>\n",
       "      <td>DL</td>\n",
       "      <td>61375</td>\n",
       "      <td>18692</td>\n",
       "    </tr>\n",
       "  </tbody>\n",
       "</table>\n",
       "</div>"
      ],
      "text/plain": [
       "delayed unique_carrier  False   True\n",
       "0                   9E  18768   4300\n",
       "1                   AA  53570  22706\n",
       "2                   AS  13048   8062\n",
       "3                   B6  18106   6603\n",
       "4                   DL  61375  18692"
      ]
     },
     "execution_count": 223,
     "metadata": {},
     "output_type": "execute_result"
    }
   ],
   "source": [
    "# set default index (0, 1, 2, 3, ...)\n",
    "\n",
    "delayed_by_carrier = delayed_by_carrier.reset_index()\n",
    "delayed_by_carrier[:5]"
   ]
  },
  {
   "cell_type": "code",
   "execution_count": 224,
   "metadata": {},
   "outputs": [
    {
     "data": {
      "text/html": [
       "<div>\n",
       "<style scoped>\n",
       "    .dataframe tbody tr th:only-of-type {\n",
       "        vertical-align: middle;\n",
       "    }\n",
       "\n",
       "    .dataframe tbody tr th {\n",
       "        vertical-align: top;\n",
       "    }\n",
       "\n",
       "    .dataframe thead th {\n",
       "        text-align: right;\n",
       "    }\n",
       "</style>\n",
       "<table border=\"1\" class=\"dataframe\">\n",
       "  <thead>\n",
       "    <tr style=\"text-align: right;\">\n",
       "      <th>delayed</th>\n",
       "      <th>unique_carrier</th>\n",
       "      <th>False</th>\n",
       "      <th>True</th>\n",
       "      <th>flight_count</th>\n",
       "    </tr>\n",
       "  </thead>\n",
       "  <tbody>\n",
       "    <tr>\n",
       "      <th>0</th>\n",
       "      <td>9E</td>\n",
       "      <td>18768</td>\n",
       "      <td>4300</td>\n",
       "      <td>23068</td>\n",
       "    </tr>\n",
       "    <tr>\n",
       "      <th>1</th>\n",
       "      <td>AA</td>\n",
       "      <td>53570</td>\n",
       "      <td>22706</td>\n",
       "      <td>76276</td>\n",
       "    </tr>\n",
       "    <tr>\n",
       "      <th>2</th>\n",
       "      <td>AS</td>\n",
       "      <td>13048</td>\n",
       "      <td>8062</td>\n",
       "      <td>21110</td>\n",
       "    </tr>\n",
       "    <tr>\n",
       "      <th>3</th>\n",
       "      <td>B6</td>\n",
       "      <td>18106</td>\n",
       "      <td>6603</td>\n",
       "      <td>24709</td>\n",
       "    </tr>\n",
       "    <tr>\n",
       "      <th>4</th>\n",
       "      <td>DL</td>\n",
       "      <td>61375</td>\n",
       "      <td>18692</td>\n",
       "      <td>80067</td>\n",
       "    </tr>\n",
       "  </tbody>\n",
       "</table>\n",
       "</div>"
      ],
      "text/plain": [
       "delayed unique_carrier  False   True  flight_count\n",
       "0                   9E  18768   4300         23068\n",
       "1                   AA  53570  22706         76276\n",
       "2                   AS  13048   8062         21110\n",
       "3                   B6  18106   6603         24709\n",
       "4                   DL  61375  18692         80067"
      ]
     },
     "execution_count": 224,
     "metadata": {},
     "output_type": "execute_result"
    }
   ],
   "source": [
    "# add a new column of the total flights\n",
    "delayed_by_carrier['flight_count'] = delayed_by_carrier[False] + delayed_by_carrier[True]\n",
    "\n",
    "# display top 5 rows\n",
    "delayed_by_carrier[:5]"
   ]
  },
  {
   "cell_type": "code",
   "execution_count": 225,
   "metadata": {},
   "outputs": [
    {
     "data": {
      "text/html": [
       "<div>\n",
       "<style scoped>\n",
       "    .dataframe tbody tr th:only-of-type {\n",
       "        vertical-align: middle;\n",
       "    }\n",
       "\n",
       "    .dataframe tbody tr th {\n",
       "        vertical-align: top;\n",
       "    }\n",
       "\n",
       "    .dataframe thead th {\n",
       "        text-align: right;\n",
       "    }\n",
       "</style>\n",
       "<table border=\"1\" class=\"dataframe\">\n",
       "  <thead>\n",
       "    <tr style=\"text-align: right;\">\n",
       "      <th>delayed</th>\n",
       "      <th>unique_carrier</th>\n",
       "      <th>False</th>\n",
       "      <th>True</th>\n",
       "      <th>flight_count</th>\n",
       "      <th>proportion_delayed</th>\n",
       "    </tr>\n",
       "  </thead>\n",
       "  <tbody>\n",
       "    <tr>\n",
       "      <th>0</th>\n",
       "      <td>9E</td>\n",
       "      <td>18768</td>\n",
       "      <td>4300</td>\n",
       "      <td>23068</td>\n",
       "      <td>0.186405</td>\n",
       "    </tr>\n",
       "    <tr>\n",
       "      <th>1</th>\n",
       "      <td>AA</td>\n",
       "      <td>53570</td>\n",
       "      <td>22706</td>\n",
       "      <td>76276</td>\n",
       "      <td>0.297682</td>\n",
       "    </tr>\n",
       "    <tr>\n",
       "      <th>2</th>\n",
       "      <td>AS</td>\n",
       "      <td>13048</td>\n",
       "      <td>8062</td>\n",
       "      <td>21110</td>\n",
       "      <td>0.381904</td>\n",
       "    </tr>\n",
       "    <tr>\n",
       "      <th>3</th>\n",
       "      <td>B6</td>\n",
       "      <td>18106</td>\n",
       "      <td>6603</td>\n",
       "      <td>24709</td>\n",
       "      <td>0.267231</td>\n",
       "    </tr>\n",
       "    <tr>\n",
       "      <th>4</th>\n",
       "      <td>DL</td>\n",
       "      <td>61375</td>\n",
       "      <td>18692</td>\n",
       "      <td>80067</td>\n",
       "      <td>0.233454</td>\n",
       "    </tr>\n",
       "  </tbody>\n",
       "</table>\n",
       "</div>"
      ],
      "text/plain": [
       "delayed unique_carrier  False   True  flight_count  proportion_delayed\n",
       "0                   9E  18768   4300         23068            0.186405\n",
       "1                   AA  53570  22706         76276            0.297682\n",
       "2                   AS  13048   8062         21110            0.381904\n",
       "3                   B6  18106   6603         24709            0.267231\n",
       "4                   DL  61375  18692         80067            0.233454"
      ]
     },
     "execution_count": 225,
     "metadata": {},
     "output_type": "execute_result"
    }
   ],
   "source": [
    "# calculate the ratio of delayed flights\n",
    "delayed_by_carrier['proportion_delayed'] = delayed_by_carrier[True] / delayed_by_carrier['flight_count']\n",
    "\n",
    "# display top 5 rows\n",
    "delayed_by_carrier[:5]"
   ]
  },
  {
   "cell_type": "code",
   "execution_count": 226,
   "metadata": {},
   "outputs": [
    {
     "data": {
      "text/html": [
       "<div>\n",
       "<style scoped>\n",
       "    .dataframe tbody tr th:only-of-type {\n",
       "        vertical-align: middle;\n",
       "    }\n",
       "\n",
       "    .dataframe tbody tr th {\n",
       "        vertical-align: top;\n",
       "    }\n",
       "\n",
       "    .dataframe thead th {\n",
       "        text-align: right;\n",
       "    }\n",
       "</style>\n",
       "<table border=\"1\" class=\"dataframe\">\n",
       "  <thead>\n",
       "    <tr style=\"text-align: right;\">\n",
       "      <th>delayed</th>\n",
       "      <th>unique_carrier</th>\n",
       "      <th>False</th>\n",
       "      <th>True</th>\n",
       "      <th>flight_count</th>\n",
       "      <th>proportion_delayed</th>\n",
       "    </tr>\n",
       "  </thead>\n",
       "  <tbody>\n",
       "    <tr>\n",
       "      <th>11</th>\n",
       "      <td>OH</td>\n",
       "      <td>14876</td>\n",
       "      <td>9433</td>\n",
       "      <td>24309</td>\n",
       "      <td>0.388046</td>\n",
       "    </tr>\n",
       "    <tr>\n",
       "      <th>2</th>\n",
       "      <td>AS</td>\n",
       "      <td>13048</td>\n",
       "      <td>8062</td>\n",
       "      <td>21110</td>\n",
       "      <td>0.381904</td>\n",
       "    </tr>\n",
       "    <tr>\n",
       "      <th>7</th>\n",
       "      <td>G4</td>\n",
       "      <td>4986</td>\n",
       "      <td>2788</td>\n",
       "      <td>7774</td>\n",
       "      <td>0.358631</td>\n",
       "    </tr>\n",
       "    <tr>\n",
       "      <th>9</th>\n",
       "      <td>MQ</td>\n",
       "      <td>17256</td>\n",
       "      <td>8944</td>\n",
       "      <td>26200</td>\n",
       "      <td>0.341374</td>\n",
       "    </tr>\n",
       "    <tr>\n",
       "      <th>8</th>\n",
       "      <td>HA</td>\n",
       "      <td>4664</td>\n",
       "      <td>2371</td>\n",
       "      <td>7035</td>\n",
       "      <td>0.337029</td>\n",
       "    </tr>\n",
       "    <tr>\n",
       "      <th>15</th>\n",
       "      <td>YV</td>\n",
       "      <td>12138</td>\n",
       "      <td>5698</td>\n",
       "      <td>17836</td>\n",
       "      <td>0.319466</td>\n",
       "    </tr>\n",
       "    <tr>\n",
       "      <th>1</th>\n",
       "      <td>AA</td>\n",
       "      <td>53570</td>\n",
       "      <td>22706</td>\n",
       "      <td>76276</td>\n",
       "      <td>0.297682</td>\n",
       "    </tr>\n",
       "    <tr>\n",
       "      <th>5</th>\n",
       "      <td>EV</td>\n",
       "      <td>7589</td>\n",
       "      <td>2975</td>\n",
       "      <td>10564</td>\n",
       "      <td>0.281617</td>\n",
       "    </tr>\n",
       "    <tr>\n",
       "      <th>3</th>\n",
       "      <td>B6</td>\n",
       "      <td>18106</td>\n",
       "      <td>6603</td>\n",
       "      <td>24709</td>\n",
       "      <td>0.267231</td>\n",
       "    </tr>\n",
       "    <tr>\n",
       "      <th>10</th>\n",
       "      <td>NK</td>\n",
       "      <td>12888</td>\n",
       "      <td>4589</td>\n",
       "      <td>17477</td>\n",
       "      <td>0.262574</td>\n",
       "    </tr>\n",
       "    <tr>\n",
       "      <th>12</th>\n",
       "      <td>OO</td>\n",
       "      <td>52918</td>\n",
       "      <td>18242</td>\n",
       "      <td>71160</td>\n",
       "      <td>0.256352</td>\n",
       "    </tr>\n",
       "    <tr>\n",
       "      <th>13</th>\n",
       "      <td>UA</td>\n",
       "      <td>36268</td>\n",
       "      <td>12133</td>\n",
       "      <td>48401</td>\n",
       "      <td>0.250677</td>\n",
       "    </tr>\n",
       "    <tr>\n",
       "      <th>6</th>\n",
       "      <td>F9</td>\n",
       "      <td>9350</td>\n",
       "      <td>3117</td>\n",
       "      <td>12467</td>\n",
       "      <td>0.250020</td>\n",
       "    </tr>\n",
       "    <tr>\n",
       "      <th>16</th>\n",
       "      <td>YX</td>\n",
       "      <td>22285</td>\n",
       "      <td>6838</td>\n",
       "      <td>29123</td>\n",
       "      <td>0.234797</td>\n",
       "    </tr>\n",
       "    <tr>\n",
       "      <th>4</th>\n",
       "      <td>DL</td>\n",
       "      <td>61375</td>\n",
       "      <td>18692</td>\n",
       "      <td>80067</td>\n",
       "      <td>0.233454</td>\n",
       "    </tr>\n",
       "    <tr>\n",
       "      <th>14</th>\n",
       "      <td>WN</td>\n",
       "      <td>85636</td>\n",
       "      <td>24134</td>\n",
       "      <td>109770</td>\n",
       "      <td>0.219860</td>\n",
       "    </tr>\n",
       "    <tr>\n",
       "      <th>0</th>\n",
       "      <td>9E</td>\n",
       "      <td>18768</td>\n",
       "      <td>4300</td>\n",
       "      <td>23068</td>\n",
       "      <td>0.186405</td>\n",
       "    </tr>\n",
       "  </tbody>\n",
       "</table>\n",
       "</div>"
      ],
      "text/plain": [
       "delayed unique_carrier  False   True  flight_count  proportion_delayed\n",
       "11                  OH  14876   9433         24309            0.388046\n",
       "2                   AS  13048   8062         21110            0.381904\n",
       "7                   G4   4986   2788          7774            0.358631\n",
       "9                   MQ  17256   8944         26200            0.341374\n",
       "8                   HA   4664   2371          7035            0.337029\n",
       "15                  YV  12138   5698         17836            0.319466\n",
       "1                   AA  53570  22706         76276            0.297682\n",
       "5                   EV   7589   2975         10564            0.281617\n",
       "3                   B6  18106   6603         24709            0.267231\n",
       "10                  NK  12888   4589         17477            0.262574\n",
       "12                  OO  52918  18242         71160            0.256352\n",
       "13                  UA  36268  12133         48401            0.250677\n",
       "6                   F9   9350   3117         12467            0.250020\n",
       "16                  YX  22285   6838         29123            0.234797\n",
       "4                   DL  61375  18692         80067            0.233454\n",
       "14                  WN  85636  24134        109770            0.219860\n",
       "0                   9E  18768   4300         23068            0.186405"
      ]
     },
     "execution_count": 226,
     "metadata": {},
     "output_type": "execute_result"
    }
   ],
   "source": [
    "# sort the data\n",
    "delayed_by_carrier.sort_values('proportion_delayed', ascending=False)"
   ]
  },
  {
   "cell_type": "markdown",
   "metadata": {},
   "source": [
    "### pivot_table()\n",
    "\n",
    "- see examples of pivot_table()\n",
    "\n",
    "https://pandas.pydata.org/pandas-docs/stable/reference/api/pandas.pivot_table.html"
   ]
  },
  {
   "cell_type": "code",
   "execution_count": 227,
   "metadata": {},
   "outputs": [
    {
     "data": {
      "text/html": [
       "<div>\n",
       "<style scoped>\n",
       "    .dataframe tbody tr th:only-of-type {\n",
       "        vertical-align: middle;\n",
       "    }\n",
       "\n",
       "    .dataframe tbody tr th {\n",
       "        vertical-align: top;\n",
       "    }\n",
       "\n",
       "    .dataframe thead th {\n",
       "        text-align: right;\n",
       "    }\n",
       "</style>\n",
       "<table border=\"1\" class=\"dataframe\">\n",
       "  <thead>\n",
       "    <tr style=\"text-align: right;\">\n",
       "      <th>unique_carrier</th>\n",
       "      <th>9E</th>\n",
       "      <th>AA</th>\n",
       "      <th>AS</th>\n",
       "      <th>B6</th>\n",
       "      <th>DL</th>\n",
       "      <th>EV</th>\n",
       "      <th>F9</th>\n",
       "      <th>G4</th>\n",
       "      <th>HA</th>\n",
       "      <th>MQ</th>\n",
       "      <th>NK</th>\n",
       "      <th>OH</th>\n",
       "      <th>OO</th>\n",
       "      <th>UA</th>\n",
       "      <th>WN</th>\n",
       "      <th>YV</th>\n",
       "      <th>YX</th>\n",
       "    </tr>\n",
       "  </thead>\n",
       "  <tbody>\n",
       "    <tr>\n",
       "      <th>arr_delay</th>\n",
       "      <td>-6.125195</td>\n",
       "      <td>0.270203</td>\n",
       "      <td>1.56973</td>\n",
       "      <td>-2.992594</td>\n",
       "      <td>-4.410431</td>\n",
       "      <td>-0.428531</td>\n",
       "      <td>-4.426325</td>\n",
       "      <td>6.319655</td>\n",
       "      <td>-1.054726</td>\n",
       "      <td>3.814809</td>\n",
       "      <td>-1.557762</td>\n",
       "      <td>7.729113</td>\n",
       "      <td>1.23561</td>\n",
       "      <td>-2.774819</td>\n",
       "      <td>-5.482509</td>\n",
       "      <td>5.732507</td>\n",
       "      <td>-5.264945</td>\n",
       "    </tr>\n",
       "  </tbody>\n",
       "</table>\n",
       "</div>"
      ],
      "text/plain": [
       "unique_carrier        9E        AA       AS        B6        DL        EV  \\\n",
       "arr_delay      -6.125195  0.270203  1.56973 -2.992594 -4.410431 -0.428531   \n",
       "\n",
       "unique_carrier        F9        G4        HA        MQ        NK        OH  \\\n",
       "arr_delay      -4.426325  6.319655 -1.054726  3.814809 -1.557762  7.729113   \n",
       "\n",
       "unique_carrier       OO        UA        WN        YV        YX  \n",
       "arr_delay       1.23561 -2.774819 -5.482509  5.732507 -5.264945  "
      ]
     },
     "execution_count": 227,
     "metadata": {},
     "output_type": "execute_result"
    }
   ],
   "source": [
    "data.pivot_table(columns='unique_carrier', values='arr_delay')"
   ]
  },
  {
   "cell_type": "code",
   "execution_count": 228,
   "metadata": {},
   "outputs": [
    {
     "data": {
      "text/plain": [
       "0    68.0\n",
       "1    -2.0\n",
       "2    -6.0\n",
       "3    10.0\n",
       "4   -12.0\n",
       "Name: arr_delay, dtype: float64"
      ]
     },
     "execution_count": 228,
     "metadata": {},
     "output_type": "execute_result"
    }
   ],
   "source": [
    "# retrieve the information of arrival delay of South West \n",
    "southwest = data[data['unique_carrier'] == 'WN']['arr_delay']\n",
    "southwest.head()"
   ]
  },
  {
   "cell_type": "code",
   "execution_count": 229,
   "metadata": {},
   "outputs": [
    {
     "data": {
      "text/plain": [
       "count    109770.000000\n",
       "mean         -5.482509\n",
       "std          23.424561\n",
       "min         -68.000000\n",
       "25%         -17.000000\n",
       "50%         -10.000000\n",
       "75%           0.000000\n",
       "max         597.000000\n",
       "Name: arr_delay, dtype: float64"
      ]
     },
     "execution_count": 229,
     "metadata": {},
     "output_type": "execute_result"
    }
   ],
   "source": [
    "southwest.describe()"
   ]
  },
  {
   "cell_type": "markdown",
   "metadata": {},
   "source": [
    "count: there are 42,020 rows in the dataset, which is filtered to only show Southwest (WN).\n",
    "\n",
    "mean: the average delay.\n",
    "std: the standard deviation. More on this below.\n",
    "\n",
    "min: the shortest delay in the dataset. In this case, the flight was very early.\n",
    "\n",
    "25%: the 25th percentile. 25% of delays were lower than -9.00.\n",
    "\n",
    "50%: the 50th percentile, or the median. 50% of delays were lower than 1.00.\n",
    "\n",
    "75%: the 75th percentile. 75% of delays were lower than 19.00.\n",
    "\n",
    "max: the longest delay in the dataset: 535.00."
   ]
  },
  {
   "cell_type": "code",
   "execution_count": 230,
   "metadata": {},
   "outputs": [
    {
     "data": {
      "text/plain": [
       "0    68.0\n",
       "1    -2.0\n",
       "2    -6.0\n",
       "3    10.0\n",
       "4   -12.0\n",
       "Name: arr_delay, dtype: float64"
      ]
     },
     "execution_count": 230,
     "metadata": {},
     "output_type": "execute_result"
    }
   ],
   "source": [
    "wn_carrier = data[data['unique_carrier'] == 'WN']\n",
    "wn_carrier['arr_delay'][:5]"
   ]
  },
  {
   "cell_type": "markdown",
   "metadata": {},
   "source": [
    "### Another way to plot box plots and histograms"
   ]
  },
  {
   "cell_type": "code",
   "execution_count": 231,
   "metadata": {},
   "outputs": [
    {
     "data": {
      "text/plain": [
       "<AxesSubplot:>"
      ]
     },
     "execution_count": 231,
     "metadata": {},
     "output_type": "execute_result"
    },
    {
     "data": {
      "image/png": "[encoded data removed]",
      "text/plain": [
       "<Figure size 288x288 with 1 Axes>"
      ]
     },
     "metadata": {
      "needs_background": "light"
     },
     "output_type": "display_data"
    }
   ],
   "source": [
    "wn_carrier['arr_delay'].plot(kind='box', figsize=[4, 4])"
   ]
  },
  {
   "cell_type": "code",
   "execution_count": 232,
   "metadata": {},
   "outputs": [
    {
     "data": {
      "text/plain": [
       "<AxesSubplot:>"
      ]
     },
     "execution_count": 232,
     "metadata": {},
     "output_type": "execute_result"
    },
    {
     "data": {
      "image/png": "[encoded data removed]",
      "text/plain": [
       "<Figure size 1008x432 with 1 Axes>"
      ]
     },
     "metadata": {
      "needs_background": "light"
     },
     "output_type": "display_data"
    }
   ],
   "source": [
    "# histograms\n",
    "bin_values = np.arange(start=-50, stop=200, step=10)\n",
    "wn_carrier['arr_delay'].hist(bins=bin_values, figsize = [14, 6])"
   ]
  },
  {
   "cell_type": "code",
   "execution_count": 233,
   "metadata": {},
   "outputs": [
    {
     "data": {
      "text/plain": [
       "ATL    32190\n",
       "ORD    25661\n",
       "DFW    24339\n",
       "DEN    20398\n",
       "CLT    19995\n",
       "Name: origin, dtype: int64"
      ]
     },
     "execution_count": 233,
     "metadata": {},
     "output_type": "execute_result"
    }
   ],
   "source": [
    "hi_volume = data['origin'].value_counts()[:20]\n",
    "hi_volume.head()"
   ]
  },
  {
   "cell_type": "code",
   "execution_count": 234,
   "metadata": {},
   "outputs": [
    {
     "data": {
      "text/plain": [
       "['ATL',\n",
       " 'ORD',\n",
       " 'DFW',\n",
       " 'DEN',\n",
       " 'CLT',\n",
       " 'LAX',\n",
       " 'PHX',\n",
       " 'IAH',\n",
       " 'LAS',\n",
       " 'LGA',\n",
       " 'SFO',\n",
       " 'DTW',\n",
       " 'MCO',\n",
       " 'MSP',\n",
       " 'BOS',\n",
       " 'SEA',\n",
       " 'DCA',\n",
       " 'EWR',\n",
       " 'JFK',\n",
       " 'SLC']"
      ]
     },
     "execution_count": 234,
     "metadata": {},
     "output_type": "execute_result"
    }
   ],
   "source": [
    "hi_volume_airports_names = hi_volume.index.tolist()\n",
    "hi_volume_airports_names"
   ]
  },
  {
   "cell_type": "markdown",
   "metadata": {},
   "source": [
    "## Part 1 Tasks\n",
    "\n",
    "(1) Choose a dataset from the data repository of airlines delay. \n",
    "\n",
    "(2) Conduct EDA on the data. This includes descriptive statistics and data visualization as shown in the above cells. "
   ]
  },
  {
   "cell_type": "code",
   "execution_count": 264,
   "metadata": {},
   "outputs": [
    {
     "data": {
      "text/html": [
       "<div>\n",
       "<style scoped>\n",
       "    .dataframe tbody tr th:only-of-type {\n",
       "        vertical-align: middle;\n",
       "    }\n",
       "\n",
       "    .dataframe tbody tr th {\n",
       "        vertical-align: top;\n",
       "    }\n",
       "\n",
       "    .dataframe thead th {\n",
       "        text-align: right;\n",
       "    }\n",
       "</style>\n",
       "<table border=\"1\" class=\"dataframe\">\n",
       "  <thead>\n",
       "    <tr style=\"text-align: right;\">\n",
       "      <th></th>\n",
       "      <th>flight_date</th>\n",
       "      <th>origin</th>\n",
       "      <th>dest</th>\n",
       "      <th>dep_delay</th>\n",
       "      <th>arr_delay</th>\n",
       "      <th>carrier_delay</th>\n",
       "      <th>weather_delay</th>\n",
       "      <th>late_aircraft_dealy</th>\n",
       "    </tr>\n",
       "  </thead>\n",
       "  <tbody>\n",
       "    <tr>\n",
       "      <th>0</th>\n",
       "      <td>1/1/20</td>\n",
       "      <td>ONT</td>\n",
       "      <td>SFO</td>\n",
       "      <td>41.0</td>\n",
       "      <td>68.0</td>\n",
       "      <td>8.0</td>\n",
       "      <td>0.0</td>\n",
       "      <td>33.0</td>\n",
       "    </tr>\n",
       "    <tr>\n",
       "      <th>7</th>\n",
       "      <td>1/1/20</td>\n",
       "      <td>ONT</td>\n",
       "      <td>SMF</td>\n",
       "      <td>59.0</td>\n",
       "      <td>47.0</td>\n",
       "      <td>0.0</td>\n",
       "      <td>0.0</td>\n",
       "      <td>40.0</td>\n",
       "    </tr>\n",
       "    <tr>\n",
       "      <th>180</th>\n",
       "      <td>1/1/20</td>\n",
       "      <td>PHX</td>\n",
       "      <td>ONT</td>\n",
       "      <td>44.0</td>\n",
       "      <td>50.0</td>\n",
       "      <td>6.0</td>\n",
       "      <td>0.0</td>\n",
       "      <td>38.0</td>\n",
       "    </tr>\n",
       "    <tr>\n",
       "      <th>185</th>\n",
       "      <td>1/1/20</td>\n",
       "      <td>PHX</td>\n",
       "      <td>ONT</td>\n",
       "      <td>62.0</td>\n",
       "      <td>54.0</td>\n",
       "      <td>9.0</td>\n",
       "      <td>0.0</td>\n",
       "      <td>45.0</td>\n",
       "    </tr>\n",
       "    <tr>\n",
       "      <th>582</th>\n",
       "      <td>1/1/20</td>\n",
       "      <td>SFO</td>\n",
       "      <td>ONT</td>\n",
       "      <td>40.0</td>\n",
       "      <td>27.0</td>\n",
       "      <td>5.0</td>\n",
       "      <td>0.0</td>\n",
       "      <td>22.0</td>\n",
       "    </tr>\n",
       "    <tr>\n",
       "      <th>...</th>\n",
       "      <td>...</td>\n",
       "      <td>...</td>\n",
       "      <td>...</td>\n",
       "      <td>...</td>\n",
       "      <td>...</td>\n",
       "      <td>...</td>\n",
       "      <td>...</td>\n",
       "      <td>...</td>\n",
       "    </tr>\n",
       "    <tr>\n",
       "      <th>597269</th>\n",
       "      <td>1/31/20</td>\n",
       "      <td>ONT</td>\n",
       "      <td>SLC</td>\n",
       "      <td>32.0</td>\n",
       "      <td>58.0</td>\n",
       "      <td>32.0</td>\n",
       "      <td>0.0</td>\n",
       "      <td>0.0</td>\n",
       "    </tr>\n",
       "    <tr>\n",
       "      <th>598274</th>\n",
       "      <td>1/31/20</td>\n",
       "      <td>ONT</td>\n",
       "      <td>DEN</td>\n",
       "      <td>61.0</td>\n",
       "      <td>57.0</td>\n",
       "      <td>57.0</td>\n",
       "      <td>0.0</td>\n",
       "      <td>0.0</td>\n",
       "    </tr>\n",
       "    <tr>\n",
       "      <th>604955</th>\n",
       "      <td>1/31/20</td>\n",
       "      <td>SEA</td>\n",
       "      <td>ONT</td>\n",
       "      <td>59.0</td>\n",
       "      <td>45.0</td>\n",
       "      <td>0.0</td>\n",
       "      <td>0.0</td>\n",
       "      <td>45.0</td>\n",
       "    </tr>\n",
       "    <tr>\n",
       "      <th>605041</th>\n",
       "      <td>1/31/20</td>\n",
       "      <td>SEA</td>\n",
       "      <td>ONT</td>\n",
       "      <td>34.0</td>\n",
       "      <td>29.0</td>\n",
       "      <td>0.0</td>\n",
       "      <td>0.0</td>\n",
       "      <td>29.0</td>\n",
       "    </tr>\n",
       "    <tr>\n",
       "      <th>606024</th>\n",
       "      <td>1/31/20</td>\n",
       "      <td>SFO</td>\n",
       "      <td>ONT</td>\n",
       "      <td>30.0</td>\n",
       "      <td>52.0</td>\n",
       "      <td>0.0</td>\n",
       "      <td>30.0</td>\n",
       "      <td>0.0</td>\n",
       "    </tr>\n",
       "  </tbody>\n",
       "</table>\n",
       "<p>365 rows × 8 columns</p>\n",
       "</div>"
      ],
      "text/plain": [
       "       flight_date origin dest  dep_delay  arr_delay  carrier_delay  \\\n",
       "0           1/1/20    ONT  SFO       41.0       68.0            8.0   \n",
       "7           1/1/20    ONT  SMF       59.0       47.0            0.0   \n",
       "180         1/1/20    PHX  ONT       44.0       50.0            6.0   \n",
       "185         1/1/20    PHX  ONT       62.0       54.0            9.0   \n",
       "582         1/1/20    SFO  ONT       40.0       27.0            5.0   \n",
       "...            ...    ...  ...        ...        ...            ...   \n",
       "597269     1/31/20    ONT  SLC       32.0       58.0           32.0   \n",
       "598274     1/31/20    ONT  DEN       61.0       57.0           57.0   \n",
       "604955     1/31/20    SEA  ONT       59.0       45.0            0.0   \n",
       "605041     1/31/20    SEA  ONT       34.0       29.0            0.0   \n",
       "606024     1/31/20    SFO  ONT       30.0       52.0            0.0   \n",
       "\n",
       "        weather_delay  late_aircraft_dealy  \n",
       "0                 0.0                 33.0  \n",
       "7                 0.0                 40.0  \n",
       "180               0.0                 38.0  \n",
       "185               0.0                 45.0  \n",
       "582               0.0                 22.0  \n",
       "...               ...                  ...  \n",
       "597269            0.0                  0.0  \n",
       "598274            0.0                  0.0  \n",
       "604955            0.0                 45.0  \n",
       "605041            0.0                 29.0  \n",
       "606024           30.0                  0.0  \n",
       "\n",
       "[365 rows x 8 columns]"
      ]
     },
     "execution_count": 264,
     "metadata": {},
     "output_type": "execute_result"
    }
   ],
   "source": [
    "# all flights to and from ontario that were delayed that have a carrier, weather, or late aircraft delay\n",
    "southwest = data[data['delayed'] == True]\n",
    "southwest = southwest[(southwest['origin'] == 'ONT') | (southwest['dest'] == 'ONT')]\n",
    "southwest = southwest[(southwest['carrier_delay'] != 0) | (southwest['weather_delay'] != 0) | (southwest['late_aircraft_dealy'] != 0)]\n",
    "southwest = southwest[['flight_date', 'origin', 'dest', 'dep_delay', 'arr_delay', 'carrier_delay', 'weather_delay', 'late_aircraft_dealy']]\n",
    "southwest"
   ]
  },
  {
   "cell_type": "code",
   "execution_count": 265,
   "metadata": {},
   "outputs": [
    {
     "data": {
      "text/html": [
       "<div>\n",
       "<style scoped>\n",
       "    .dataframe tbody tr th:only-of-type {\n",
       "        vertical-align: middle;\n",
       "    }\n",
       "\n",
       "    .dataframe tbody tr th {\n",
       "        vertical-align: top;\n",
       "    }\n",
       "\n",
       "    .dataframe thead th {\n",
       "        text-align: right;\n",
       "    }\n",
       "</style>\n",
       "<table border=\"1\" class=\"dataframe\">\n",
       "  <thead>\n",
       "    <tr style=\"text-align: right;\">\n",
       "      <th></th>\n",
       "      <th>dep_delay</th>\n",
       "      <th>arr_delay</th>\n",
       "      <th>carrier_delay</th>\n",
       "      <th>weather_delay</th>\n",
       "      <th>late_aircraft_dealy</th>\n",
       "    </tr>\n",
       "  </thead>\n",
       "  <tbody>\n",
       "    <tr>\n",
       "      <th>count</th>\n",
       "      <td>365.000000</td>\n",
       "      <td>365.000000</td>\n",
       "      <td>365.000000</td>\n",
       "      <td>365.000000</td>\n",
       "      <td>365.000000</td>\n",
       "    </tr>\n",
       "    <tr>\n",
       "      <th>mean</th>\n",
       "      <td>57.863014</td>\n",
       "      <td>54.824658</td>\n",
       "      <td>20.638356</td>\n",
       "      <td>3.380822</td>\n",
       "      <td>26.698630</td>\n",
       "    </tr>\n",
       "    <tr>\n",
       "      <th>std</th>\n",
       "      <td>77.378887</td>\n",
       "      <td>77.339532</td>\n",
       "      <td>42.686960</td>\n",
       "      <td>18.899101</td>\n",
       "      <td>69.842304</td>\n",
       "    </tr>\n",
       "    <tr>\n",
       "      <th>min</th>\n",
       "      <td>1.000000</td>\n",
       "      <td>15.000000</td>\n",
       "      <td>0.000000</td>\n",
       "      <td>0.000000</td>\n",
       "      <td>0.000000</td>\n",
       "    </tr>\n",
       "    <tr>\n",
       "      <th>25%</th>\n",
       "      <td>27.000000</td>\n",
       "      <td>22.000000</td>\n",
       "      <td>0.000000</td>\n",
       "      <td>0.000000</td>\n",
       "      <td>0.000000</td>\n",
       "    </tr>\n",
       "    <tr>\n",
       "      <th>50%</th>\n",
       "      <td>40.000000</td>\n",
       "      <td>33.000000</td>\n",
       "      <td>8.000000</td>\n",
       "      <td>0.000000</td>\n",
       "      <td>10.000000</td>\n",
       "    </tr>\n",
       "    <tr>\n",
       "      <th>75%</th>\n",
       "      <td>62.000000</td>\n",
       "      <td>60.000000</td>\n",
       "      <td>26.000000</td>\n",
       "      <td>0.000000</td>\n",
       "      <td>31.000000</td>\n",
       "    </tr>\n",
       "    <tr>\n",
       "      <th>max</th>\n",
       "      <td>960.000000</td>\n",
       "      <td>967.000000</td>\n",
       "      <td>463.000000</td>\n",
       "      <td>161.000000</td>\n",
       "      <td>960.000000</td>\n",
       "    </tr>\n",
       "  </tbody>\n",
       "</table>\n",
       "</div>"
      ],
      "text/plain": [
       "        dep_delay   arr_delay  carrier_delay  weather_delay  \\\n",
       "count  365.000000  365.000000     365.000000     365.000000   \n",
       "mean    57.863014   54.824658      20.638356       3.380822   \n",
       "std     77.378887   77.339532      42.686960      18.899101   \n",
       "min      1.000000   15.000000       0.000000       0.000000   \n",
       "25%     27.000000   22.000000       0.000000       0.000000   \n",
       "50%     40.000000   33.000000       8.000000       0.000000   \n",
       "75%     62.000000   60.000000      26.000000       0.000000   \n",
       "max    960.000000  967.000000     463.000000     161.000000   \n",
       "\n",
       "       late_aircraft_dealy  \n",
       "count           365.000000  \n",
       "mean             26.698630  \n",
       "std              69.842304  \n",
       "min               0.000000  \n",
       "25%               0.000000  \n",
       "50%              10.000000  \n",
       "75%              31.000000  \n",
       "max             960.000000  "
      ]
     },
     "execution_count": 265,
     "metadata": {},
     "output_type": "execute_result"
    }
   ],
   "source": [
    "southwest.describe()"
   ]
  },
  {
   "cell_type": "code",
   "execution_count": 266,
   "metadata": {},
   "outputs": [
    {
     "data": {
      "text/plain": [
       "<AxesSubplot:>"
      ]
     },
     "execution_count": 266,
     "metadata": {},
     "output_type": "execute_result"
    },
    {
     "data": {
      "image/png": "[encoded data removed]",
      "text/plain": [
       "<Figure size 432x288 with 1 Axes>"
      ]
     },
     "metadata": {
      "needs_background": "light"
     },
     "output_type": "display_data"
    }
   ],
   "source": [
    "southwest.boxplot()"
   ]
  },
  {
   "cell_type": "code",
   "execution_count": 267,
   "metadata": {},
   "outputs": [
    {
     "data": {
      "text/plain": [
       "array([[<AxesSubplot:title={'center':'dep_delay'}>,\n",
       "        <AxesSubplot:title={'center':'arr_delay'}>],\n",
       "       [<AxesSubplot:title={'center':'carrier_delay'}>,\n",
       "        <AxesSubplot:title={'center':'weather_delay'}>],\n",
       "       [<AxesSubplot:title={'center':'late_aircraft_dealy'}>,\n",
       "        <AxesSubplot:>]], dtype=object)"
      ]
     },
     "execution_count": 267,
     "metadata": {},
     "output_type": "execute_result"
    },
    {
     "data": {
      "image/png": "[encoded data removed]",
      "text/plain": [
       "<Figure size 432x288 with 1 Axes>"
      ]
     },
     "metadata": {
      "needs_background": "light"
     },
     "output_type": "display_data"
    },
    {
     "data": {
      "image/png": "[encoded data removed]",
      "text/plain": [
       "<Figure size 432x288 with 6 Axes>"
      ]
     },
     "metadata": {
      "needs_background": "light"
     },
     "output_type": "display_data"
    }
   ],
   "source": [
    "southwest.plot.hist()\n",
    "southwest.hist()"
   ]
  },
  {
   "cell_type": "code",
   "execution_count": 268,
   "metadata": {},
   "outputs": [
    {
     "data": {
      "text/plain": [
       "<AxesSubplot:xlabel='carrier_delay', ylabel='late_aircraft_dealy'>"
      ]
     },
     "execution_count": 268,
     "metadata": {},
     "output_type": "execute_result"
    },
    {
     "data": {
      "image/png": "[encoded data removed]",
      "text/plain": [
       "<Figure size 432x288 with 1 Axes>"
      ]
     },
     "metadata": {
      "needs_background": "light"
     },
     "output_type": "display_data"
    },
    {
     "data": {
      "image/png": "[encoded data removed]",
      "text/plain": [
       "<Figure size 432x288 with 1 Axes>"
      ]
     },
     "metadata": {
      "needs_background": "light"
     },
     "output_type": "display_data"
    },
    {
     "data": {
      "image/png": "[encoded data removed]",
      "text/plain": [
       "<Figure size 432x288 with 1 Axes>"
      ]
     },
     "metadata": {
      "needs_background": "light"
     },
     "output_type": "display_data"
    },
    {
     "data": {
      "image/png": "[encoded data removed]",
      "text/plain": [
       "<Figure size 432x288 with 1 Axes>"
      ]
     },
     "metadata": {
      "needs_background": "light"
     },
     "output_type": "display_data"
    },
    {
     "data": {
      "image/png": "[encoded data removed]",
      "text/plain": [
       "<Figure size 432x288 with 1 Axes>"
      ]
     },
     "metadata": {
      "needs_background": "light"
     },
     "output_type": "display_data"
    },
    {
     "data": {
      "image/png": "[encoded data removed]",
      "text/plain": [
       "<Figure size 432x288 with 1 Axes>"
      ]
     },
     "metadata": {
      "needs_background": "light"
     },
     "output_type": "display_data"
    },
    {
     "data": {
      "image/png": "[encoded data removed]",
      "text/plain": [
       "<Figure size 432x288 with 1 Axes>"
      ]
     },
     "metadata": {
      "needs_background": "light"
     },
     "output_type": "display_data"
    }
   ],
   "source": [
    "southwest.plot.scatter(x='dep_delay', y='arr_delay')\n",
    "southwest.plot.scatter(x='dep_delay', y='carrier_delay')\n",
    "southwest.plot.scatter(x='dep_delay', y='weather_delay')\n",
    "southwest.plot.scatter(x='dep_delay', y='late_aircraft_dealy')\n",
    "southwest.plot.scatter(x='arr_delay', y='carrier_delay')\n",
    "southwest.plot.scatter(x='carrier_delay', y='weather_delay')\n",
    "southwest.plot.scatter(x='carrier_delay', y='late_aircraft_dealy')"
   ]
  },
  {
   "cell_type": "code",
   "execution_count": 269,
   "metadata": {},
   "outputs": [
    {
     "data": {
      "text/plain": [
       "carrier_delay          7533.0\n",
       "weather_delay          1234.0\n",
       "late_aircraft_dealy    9745.0\n",
       "dtype: float64"
      ]
     },
     "execution_count": 269,
     "metadata": {},
     "output_type": "execute_result"
    },
    {
     "data": {
      "image/png": "[encoded data removed]",
      "text/plain": [
       "<Figure size 432x288 with 1 Axes>"
      ]
     },
     "metadata": {
      "needs_background": "light"
     },
     "output_type": "display_data"
    }
   ],
   "source": [
    "southwest = southwest[['carrier_delay', 'weather_delay', 'late_aircraft_dealy']]\n",
    "southwest.plot.line()\n",
    "southwest.sum()"
   ]
  },
  {
   "cell_type": "markdown",
   "metadata": {},
   "source": [
    "## Part 2\n",
    "\n",
    "Write a summary of what you find from your data analysis. "
   ]
  },
  {
   "cell_type": "code",
   "execution_count": 271,
   "metadata": {},
   "outputs": [
    {
     "name": "stdout",
     "output_type": "stream",
     "text": [
      "From the data shown, it can be seen that the weather in ontario is quite nice. The leading cause for delays seem to be late aircrafts with carrier delays as a clost second.\n"
     ]
    }
   ],
   "source": [
    "print('From the data shown, it can be seen that the weather in ontario is quite nice. The leading cause for delays seem to be late aircrafts with carrier delays as a clost second.')"
   ]
  },
  {
   "cell_type": "markdown",
   "metadata": {},
   "source": [
    "### Resources\n",
    "\n",
    "#### Boxplot\n",
    "https://towardsdatascience.com/understanding-boxplots-5e2df7bcbd51\n",
    "\n",
    "\n",
    "- matplotlib.pyplot boxplot demo\n",
    "https://matplotlib.org/3.1.1/gallery/pyplots/boxplot_demo_pyplot.html\n",
    "\n",
    "\n",
    "#### matplotlib.pyplot\n",
    "- scatter plot\n",
    "https://matplotlib.org/3.3.2/api/_as_gen/matplotlib.pyplot.scatter.html\n",
    "\n",
    "\n",
    "- histogram plot\n",
    "https://matplotlib.org/3.3.2/api/_as_gen/matplotlib.pyplot.hist.html\n",
    "\n",
    "\n",
    "#### pandas DataFrame\n",
    "https://pandas.pydata.org/pandas-docs/stable/reference/api/pandas.DataFrame.html\n",
    "\n",
    "\n",
    "- describe()\n",
    "https://pandas.pydata.org/pandas-docs/stable/reference/api/pandas.DataFrame.describe.html\n",
    "\n",
    "\n",
    "- corr()\n",
    "https://pandas.pydata.org/pandas-docs/stable/reference/api/pandas.DataFrame.corr.html\n",
    "\n",
    "\n",
    "- hist()\n",
    "https://pandas.pydata.org/pandas-docs/stable/reference/api/pandas.DataFrame.hist.html\n",
    "\n",
    "\n",
    "- plot.scatter()\n",
    "https://pandas.pydata.org/pandas-docs/stable/reference/api/pandas.DataFrame.plot.scatter.html\n",
    "\n",
    "\n",
    "- pivot()\n",
    "https://pandas.pydata.org/pandas-docs/stable/reference/api/pandas.DataFrame.pivot.html"
   ]
  },
  {
   "cell_type": "code",
   "execution_count": null,
   "metadata": {},
   "outputs": [],
   "source": []
  }
 ],
 "metadata": {
  "interpreter": {
   "hash": "816fbe9b29bb35a06abcb164ab2829d6e65a2451a228026875885c695b62666f"
  },
  "kernelspec": {
   "display_name": "Python 3.9.7 64-bit",
   "name": "python3"
  },
  "language_info": {
   "codemirror_mode": {
    "name": "ipython",
    "version": 3
   },
   "file_extension": ".py",
   "mimetype": "text/x-python",
   "name": "python",
   "nbconvert_exporter": "python",
   "pygments_lexer": "ipython3",
   "version": "3.9.7"
  }
 },
 "nbformat": 4,
 "nbformat_minor": 2
}
